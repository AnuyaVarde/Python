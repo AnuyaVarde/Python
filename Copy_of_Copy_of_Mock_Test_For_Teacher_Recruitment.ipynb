{
  "nbformat": 4,
  "nbformat_minor": 0,
  "metadata": {
    "colab": {
      "name": "Copy of Copy of  Mock Test For Teacher Recruitment",
      "provenance": [],
      "collapsed_sections": [],
      "include_colab_link": true
    },
    "kernelspec": {
      "name": "python3",
      "display_name": "Python 3"
    }
  },
  "cells": [
    {
      "cell_type": "markdown",
      "metadata": {
        "id": "view-in-github",
        "colab_type": "text"
      },
      "source": [
        "<a href=\"https://colab.research.google.com/github/AnuyaVarde/Python/blob/master/Copy_of_Copy_of_Mock_Test_For_Teacher_Recruitment.ipynb\" target=\"_parent\"><img src=\"https://colab.research.google.com/assets/colab-badge.svg\" alt=\"Open In Colab\"/></a>"
      ]
    },
    {
      "cell_type": "markdown",
      "metadata": {
        "id": "29wez8Y5imzW",
        "colab_type": "text"
      },
      "source": [
        "# Mock Test For Teacher Recruitment\n",
        "\n",
        "\n",
        "# **Please Note: This sample test is in Python but during the real test you can choose the coding language of your choice.**\n",
        "\n",
        "|Particulars|Description|\n",
        "|-|-|\n",
        "|Number of Questions|5|\n",
        "|Test Duration|45 minutes|\n",
        "|Mode of Test|Online|\n",
        "\n",
        "### Test Instructions\n",
        "\n",
        "1. Read all the instructions carefully before going ahead with this notebook. Clarify your doubts with your invigilator, should you have any. In case of any discrepancy, the decision of the your invigilator shall be final and binding.\n",
        "\n",
        "2. The clock for this test will be controlled by your invigilator. The clock shall be paused by the invigilator in case there is any interruption due to poor internet connectivity or due to any other unforeseen situation. Again in case of any discrepancy, the decision of the your invigilator shall be final and binding.\n",
        "\n",
        "3. Attempt all the questions. It is strongly recommended that you take a good look at all the questions before attempting them.\n",
        "\n",
        "4. You are **NOT** allowed to refer to any material, you are **NOT** supposed to take help of anyone during the test and you should **NOT** wear any electronic gadget while attempting the test. Make sure you always share your screen and your webcam is always ON during the test. You can use **ONLY** one plain A4 size paper and a pen during the test for scribbling. Verify both of them with your invigilator before going ahead with the test.\n",
        "\n",
        "5. You don't have to start the test strictly from the first question. You begin the test from any question of your choice.\n",
        "\n",
        "6. You will be monitored live through a video call.\n",
        "\n",
        "7. **DO NOT** share these questions with anyone outside WhiteHat Jr.\n",
        "\n"
      ]
    },
    {
      "cell_type": "markdown",
      "metadata": {
        "id": "jwq9sDgnvzQg",
        "colab_type": "text"
      },
      "source": [
        "---"
      ]
    },
    {
      "cell_type": "markdown",
      "metadata": {
        "id": "dOsUH1w8jBIH",
        "colab_type": "text"
      },
      "source": [
        "### Question 1: Print a `*` Triangle\n",
        "\n",
        "Given an integer $n$ the number of rows in a `*` triangle, write a program to get the triangle with $n$ rows.\n",
        "```\n",
        "         *\n",
        "        * *\n",
        "       *   *\n",
        "      *     *\n",
        "     *       *\n",
        "    *         *\n",
        "   *           *\n",
        "  *             *\n",
        " *               *\n",
        " *****************\n",
        "\n",
        "```\n",
        "\n",
        "**Constraints**\n",
        "\n",
        "n > 2\n",
        "\n",
        "**Input Format**\n",
        "```\n",
        "Enter the number of rows in the * triangle: Integer value of n\n",
        "```\n",
        "\n",
        "**Output Format**\n",
        "```\n",
        "Triangle of n rows with *\n",
        "```\n",
        "\n",
        "**Sample Input**\n",
        "```\n",
        "10\n",
        "```\n",
        "\n",
        "**Sample Output**\n",
        "```\n",
        "         *\n",
        "        * *\n",
        "       *   *\n",
        "      *     *\n",
        "     *       *\n",
        "    *         *\n",
        "   *           *\n",
        "  *             *\n",
        " *               *\n",
        " *****************\n",
        "\n",
        "```\n"
      ]
    },
    {
      "cell_type": "code",
      "metadata": {
        "id": "5mmBSbSSjLRL",
        "colab_type": "code",
        "colab": {}
      },
      "source": [
        "# Write your solution here.\n"
      ],
      "execution_count": null,
      "outputs": []
    },
    {
      "cell_type": "markdown",
      "metadata": {
        "id": "cK3vwAHYjWc5",
        "colab_type": "text"
      },
      "source": [
        "---"
      ]
    },
    {
      "cell_type": "markdown",
      "metadata": {
        "id": "7H_PQBHvmkNw",
        "colab_type": "text"
      },
      "source": [
        "### Question 2: Find Sum of the Series\n",
        "\n",
        "Given a natural number $n$ (where $1\\leq n \\leq 9$), find the sum of the series having $n$ number of numbers such that the series is $n, nn, nnn, \\dots nnn \\dots n $ times.\n",
        " \n",
        " \n",
        "Hence, the required sum is\n",
        " \n",
        "$$n + nn + nnn + \\dots + nnn \\dots n $$\n",
        "\n",
        "**Constraints**\n",
        "\n",
        "$1\\leq n \\leq 9$\n",
        "\n",
        " **Input Format**\n",
        "```\n",
        "Integer value of n\n",
        "```\n",
        "\n",
        "**Output Format**\n",
        "```\n",
        "Print the sum of series for n\n",
        "```\n",
        "\n",
        "**Sample Input 1**\n",
        "```\n",
        "2\n",
        "```\n",
        "\n",
        "**Sample Output 1**\n",
        "```\n",
        "24\n",
        "\n",
        "# 2 + 22\n",
        "```\n",
        "\n",
        "**Sample Input 2**\n",
        "```\n",
        "3\n",
        "```\n",
        "\n",
        "**Sample Output 2**\n",
        "```\n",
        "369\n",
        "\n",
        "# 3 + 33 + 333 \n",
        "```\n",
        "\n",
        "**Sample Input 3**\n",
        "```\n",
        "4\n",
        "```\n",
        "\n",
        "**Sample Output 3**\n",
        "```\n",
        "4936\n",
        "\n",
        "# 4 + 44 + 444 + 4444\n",
        "```\n",
        " \n"
      ]
    },
    {
      "cell_type": "code",
      "metadata": {
        "id": "QekIXJQ8mlwq",
        "colab_type": "code",
        "colab": {}
      },
      "source": [
        "# Write your solution here.\n"
      ],
      "execution_count": null,
      "outputs": []
    },
    {
      "cell_type": "markdown",
      "metadata": {
        "id": "_fF3ptW1mvwG",
        "colab_type": "text"
      },
      "source": [
        "---"
      ]
    },
    {
      "cell_type": "markdown",
      "metadata": {
        "id": "z1aSjM7P1pz7",
        "colab_type": "text"
      },
      "source": [
        "### Question 3: Power Ranger\n",
        "\n",
        "Given 3 inputs `n`, `minimum`, & `maximum`, find the number of values raised to the nth power that lie in the range [`minimum`, `maximum`], inclusive.\n",
        "\n",
        "**Constraints**:\n",
        "\n",
        "  1. Remember that the range is inclusive.\n",
        "\n",
        "  2. a < b will always be true.\n",
        "\n",
        "**Input Format**\n",
        "```\n",
        "Three integer value of n, minimum, maximum\n",
        "```\n",
        "\n",
        "**Output Format**\n",
        "```\n",
        "Print the number of values raised to the nth power that lie in the range minimum & maximum.\n",
        "```\n",
        "\n",
        "**Sample Input 1**\n",
        "```\n",
        "2, 49, 65\n",
        "```\n",
        "\n",
        "**Sample Output 1**\n",
        "```\n",
        "2\n",
        "\n",
        "# 2 squares (n^2) lie between 48 and 65, 49 (7^2) and 64 (8^2)\n",
        "```\n",
        "\n",
        "**Sample Input 2**\n",
        "```\n",
        "3, 1, 27\n",
        "```\n",
        "\n",
        "**Sample Output 2**\n",
        "```\n",
        "3\n",
        "\n",
        "# 3 cubes (n^3) lie between 1 and 27, 1 (1^3), 8 (2^3) and 27 (3^3)\n",
        "```\n",
        "\n",
        "**Sample Input 3**\n",
        "```\n",
        "10, 1, 5\n",
        "```\n",
        "\n",
        "**Sample Output 3**\n",
        "```\n",
        "1\n",
        "\n",
        "# 1 value raised to the 10th power lies between 1 and 5, 1 (1^10)\n",
        "```"
      ]
    },
    {
      "cell_type": "code",
      "metadata": {
        "id": "ZaXkG0rh1qYY",
        "colab_type": "code",
        "colab": {}
      },
      "source": [
        "# Write your solution here.\n"
      ],
      "execution_count": null,
      "outputs": []
    },
    {
      "cell_type": "markdown",
      "metadata": {
        "id": "Dz7WJWa66CWf",
        "colab_type": "text"
      },
      "source": [
        "---"
      ]
    },
    {
      "cell_type": "markdown",
      "metadata": {
        "id": "r1SNMW1m6De6",
        "colab_type": "text"
      },
      "source": [
        "### Question 4: First Before Second Letter\n",
        "\n",
        "You are given three inputs: a string, one letter, and a second letter.\n",
        "\n",
        "Check if every instance of the first letter occurs before every instance of the second letter.\n",
        "\n",
        "**Constraints**:\n",
        "\n",
        "1. All strings will be in lower case\n",
        "\n",
        "2. All strings will contain the first and second letters at least once\n",
        "\n",
        "**Input Format**\n",
        "```\n",
        "Three string value of string, first & second\n",
        "```\n",
        "\n",
        "**Output Format**\n",
        "```\n",
        "Print 'True' if the first letter occurs before every instance of the second letter, otherwise print 'False'\n",
        "```\n",
        "\n",
        "**Sample Input 1**\n",
        "```\n",
        "\"a rabbit jumps joyfully\", \"a\", \"j\"\n",
        "```\n",
        "\n",
        "**Sample Output 1**\n",
        "```\n",
        "True\n",
        "\n",
        "# Every instance of \"a\" occurs before every instance of \"j\".\n",
        "```\n",
        "\n",
        "**Sample Input 2**\n",
        "```\n",
        "\"knaves knew about waterfalls\", \"k\", \"w\"\n",
        "```\n",
        "\n",
        "**Sample Output 2**\n",
        "```\n",
        "True\n",
        "```\n",
        "\n",
        "**Sample Input 3**\n",
        "```\n",
        "\"happy birthday\", \"a\", \"y\"\n",
        "```\n",
        "\n",
        "**Sample Output 3**\n",
        "```\n",
        "False\n",
        "\n",
        "# The \"a\" in \"birthday\" occurs after the \"y\" in \"happy\".\n",
        "```\n",
        "\n"
      ]
    },
    {
      "cell_type": "code",
      "metadata": {
        "id": "ibMgn-c77aHi",
        "colab_type": "code",
        "colab": {}
      },
      "source": [
        "# Write your solution here.\n"
      ],
      "execution_count": null,
      "outputs": []
    },
    {
      "cell_type": "markdown",
      "metadata": {
        "id": "Z5DQdz1u-CPA",
        "colab_type": "text"
      },
      "source": [
        "---"
      ]
    },
    {
      "cell_type": "markdown",
      "metadata": {
        "id": "YvrR4gyq-DLM",
        "colab_type": "text"
      },
      "source": [
        "### Question 5: Friday the 13th\n",
        "\n",
        "Given the `month` and `year` as numbers, check whether that month contains a 'Friday 13th'.\n",
        "\n",
        "**Constraints**:\n",
        "\n",
        "1. January will be given as 1, February as 2, etc ...\n",
        "\n",
        "2. Check Resources for some helpful tutorials on Python's datetime module.\n",
        "\n",
        "**Input Format**\n",
        "```\n",
        "Two integer value of month & year\n",
        "```\n",
        "\n",
        "**Output Format**\n",
        "```\n",
        "Print 'True' if that month contains a 'Friday 13th' on the given year, otherwise print 'False'\n",
        "```\n",
        "\n",
        "**Sample Input 1**\n",
        "```\n",
        "3, 2020\n",
        "```\n",
        "\n",
        "**Sample Output 1**\n",
        "```\n",
        "True\n",
        "```\n",
        "\n",
        "**Sample Input 2**\n",
        "```\n",
        "10, 2017\n",
        "```\n",
        "\n",
        "**Sample Output 2**\n",
        "```\n",
        "True\n",
        "```\n",
        "\n",
        "**Sample Input 3**\n",
        "```\n",
        "1, 1985\n",
        "```\n",
        "\n",
        "**Sample Output 3**\n",
        "```\n",
        "False\n",
        "```\n"
      ]
    },
    {
      "cell_type": "code",
      "metadata": {
        "id": "uwGeGJvI-ZxD",
        "colab_type": "code",
        "colab": {}
      },
      "source": [
        "# Write your solution here.\n"
      ],
      "execution_count": null,
      "outputs": []
    },
    {
      "cell_type": "markdown",
      "metadata": {
        "id": "pb0KcQmi_yIV",
        "colab_type": "text"
      },
      "source": [
        "---"
      ]
    }
  ]
}