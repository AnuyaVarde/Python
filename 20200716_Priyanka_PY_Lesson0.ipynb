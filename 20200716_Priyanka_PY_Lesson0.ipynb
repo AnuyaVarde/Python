{
  "nbformat": 4,
  "nbformat_minor": 0,
  "metadata": {
    "colab": {
      "name": "AT - Lesson 0 (Trial Class) - Class Copy - v0.9",
      "provenance": [],
      "collapsed_sections": [],
      "include_colab_link": true
    },
    "kernelspec": {
      "name": "python3",
      "display_name": "Python 3"
    }
  },
  "cells": [
    {
      "cell_type": "markdown",
      "metadata": {
        "id": "view-in-github",
        "colab_type": "text"
      },
      "source": [
        "<a href=\"https://colab.research.google.com/github/AnuyaVarde/Python/blob/master/20200716_Priyanka_PY_Lesson0.ipynb\" target=\"_parent\"><img src=\"https://colab.research.google.com/assets/colab-badge.svg\" alt=\"Open In Colab\"/></a>"
      ]
    },
    {
      "cell_type": "markdown",
      "metadata": {
        "id": "W0l8coGdmyaI",
        "colab_type": "text"
      },
      "source": [
        "# Lesson 0: COVID-19 Outbreak Analysis"
      ]
    },
    {
      "cell_type": "markdown",
      "metadata": {
        "id": "wf5ibdMS8C8W",
        "colab_type": "text"
      },
      "source": [
        "### Overview\n",
        "\n",
        "In a tweet on 11 March 2020, WHO declared COVID-19 (or coronavirus) a pandemic. A pandemic is a disease spread over the world.\n",
        "\n",
        "<img src='https://student-datasets-bucket.s3.ap-south-1.amazonaws.com/images/who-coronavirus-pandemic.png' width=500>\n",
        "\n",
        "Here's a link to the tweet: https://twitter.com/WHO/status/1237777021742338049\n",
        "\n",
        "Coronavirus has claimed the lives of more than **300 thousand** (or 3 lakh) people globally so far and is still counting. You can look at the live dashboard to see the real-time updates.\n",
        "\n",
        "[COVID-19 Live Dashboard](https://www.arcgis.com/apps/opsdashboard/index.html#/bda7594740fd40299423467b48e9ecf6)\n",
        "\n",
        "In line with this pandemic, in this class, to understand the virality of the disease, we are going to look at \n",
        "\n",
        "- How many people get affected by coronavirus every day?\n",
        "\n",
        "- What is the distribution of the number of people affected across the globe?\n",
        "\n",
        "- Which countries have flattened the curve? In other words, which countries have controlled the rate of spread of COVID-19?"
      ]
    },
    {
      "cell_type": "markdown",
      "metadata": {
        "id": "LH4QfpXOmwyk",
        "colab_type": "text"
      },
      "source": [
        "---"
      ]
    },
    {
      "cell_type": "markdown",
      "metadata": {
        "colab_type": "text",
        "id": "HEOsfm4ksTGV"
      },
      "source": [
        "### What Will You Create In This Class?\n",
        "\n",
        "- Cartograms using Folium Maps \n",
        "\n",
        "- Line Plots\n",
        "\n",
        "- Bivariate Bar Charts\n"
      ]
    },
    {
      "cell_type": "markdown",
      "metadata": {
        "colab_type": "text",
        "id": "xoVXOW1SsSzf"
      },
      "source": [
        "---"
      ]
    },
    {
      "cell_type": "markdown",
      "metadata": {
        "id": "UQcHTOq4rh1U",
        "colab_type": "text"
      },
      "source": [
        "### Teacher-Student Activities\n",
        "\n",
        "Now, let's create the required line plots and cartograms. Here's the list of activities that we are going to perform in this class:\n",
        "\n",
        "1. Download the required data\n",
        "\n",
        "2. Locate the datasets in the notebook\n",
        "\n",
        "3. Import the required modules\n",
        "\n",
        "4. Create DataFrames\n",
        "\n",
        "5. Create Pandas series\n",
        "\n",
        "6. Create line plots/charts\n",
        "\n",
        "7. Create maps\n",
        "\n",
        "8. Create bar charts"
      ]
    },
    {
      "cell_type": "markdown",
      "metadata": {
        "id": "_7QvDKUgsegK",
        "colab_type": "text"
      },
      "source": [
        "---"
      ]
    },
    {
      "cell_type": "markdown",
      "metadata": {
        "id": "hpw5AxTwtBat",
        "colab_type": "text"
      },
      "source": [
        "#### Activity 1: Download The Datasets\n",
        "\n",
        "Here's the link to the data source. It is a GitHub repository. Coders/programmers across the world create GitHub repositories for their codes so that they can download and upload their work anytime from anywhere. Essentially, it's like carrying data in a portable storage device.\n",
        "\n",
        "[COVID-19 Data Source](https://github.com/CSSEGISandData/COVID-19/tree/master/csse_covid_19_data/csse_covid_19_time_series)\n",
        "\n",
        "\n",
        "<img src='https://student-datasets-bucket.s3.ap-south-1.amazonaws.com/images/github-covid19-repo.png'>"
      ]
    },
    {
      "cell_type": "code",
      "metadata": {
        "id": "Hcf8uvRzmL2c",
        "colab_type": "code",
        "colab": {}
      },
      "source": [
        "# Student Action: Run the code below by either clicking on the play button or by hitting the 'shift + enter' keys together.\n",
        "# Cloning the GitHub repository.\n",
        "!git clone https://github.com/CSSEGISandData/COVID-19.git"
      ],
      "execution_count": null,
      "outputs": []
    },
    {
      "cell_type": "markdown",
      "metadata": {
        "id": "f_x0lGpCVjde",
        "colab_type": "text"
      },
      "source": [
        "The repository is saved in the notebook. You can click on the folder icon on the left-hand side of the notebook to access the `COVID-19` repository (or folder)."
      ]
    },
    {
      "cell_type": "markdown",
      "metadata": {
        "id": "4vbg610OmKQj",
        "colab_type": "text"
      },
      "source": [
        "---"
      ]
    },
    {
      "cell_type": "markdown",
      "metadata": {
        "id": "7yK0csShvNYw",
        "colab_type": "text"
      },
      "source": [
        "#### Activity 2: Dataset Paths\n",
        "\n",
        "To get the path of the datasets:\n",
        "\n",
        "1. Click on the folder icon on the left-hand side of the notebook.\n",
        "\n",
        "   <img src='https://student-datasets-bucket.s3.ap-south-1.amazonaws.com/images/get_data_1.png' width=700>\n",
        "\n",
        "2. Click on the tiny arrow on the left-hand side of the `COVID-19` folder.\n",
        "\n",
        "   <img src='https://student-datasets-bucket.s3.ap-south-1.amazonaws.com/images/get_data_2.png' width=400>\n",
        "\n",
        "3. Click on the tiny arrow in the left-hand side of the `csse_covid_19_data` folder.\n",
        "\n",
        "   <img src='https://student-datasets-bucket.s3.ap-south-1.amazonaws.com/images/get_data_3.png' width=400>\n",
        "\n",
        "4. Click on the tiny arrow in the left-hand side of the `csse_covid_19_time_series` folder.\n",
        "\n",
        "   <img src='https://student-datasets-bucket.s3.ap-south-1.amazonaws.com/images/get_data_4.png' width=400>\n",
        "\n",
        "   You should be able to see the CSV files which contain data for this class.\n",
        "\n",
        "   <img src='https://student-datasets-bucket.s3.ap-south-1.amazonaws.com/images/get_data_5.png' width=400>\n",
        "\n",
        "5. Right-click on each of the CSV files and then click on the **Copy path** option. The path of the file will get copied.\n",
        "\n",
        "   <img src='https://student-datasets-bucket.s3.ap-south-1.amazonaws.com/images/get_data_6.png' width=500>\n",
        "\n",
        "6. You can now paste the link either in a code cell or in a text cell.\n",
        "\n",
        "**Note:**\n",
        "\n",
        "The files below are no longer available:\n",
        "\n",
        "1. `time_series_19-covid-Confirmed.csv`\n",
        "\n",
        "2. `time_series_19-covid-Deaths.csv`\n",
        "\n",
        "3. `time_series_19-covid-Recovered.csv`\n",
        "\n",
        "Hence, refer to the following two files for the latest time-series data:\n",
        "\n",
        "1. `time_series_covid19_confirmed_global.csv`\n",
        "\n",
        "2. `time_series_covid19_deaths_global.csv`\n",
        "\n",
        "3. `time_series_covid19_recovered_global.csv`"
      ]
    },
    {
      "cell_type": "code",
      "metadata": {
        "id": "fbsMjhp2vZlE",
        "colab_type": "code",
        "colab": {}
      },
      "source": [
        "# Student Action: Run the code below.\n",
        "# Storing the path of 'time_series_covid19_confirmed_global.csv'' in 'conf_csv' variable.\n",
        "conf_csv = '/content/COVID-19/csse_covid_19_data/csse_covid_19_time_series/time_series_covid19_confirmed_global.csv'\n",
        "# Storing the path of 'time_series_covid19_deaths_global.csv'' in 'deaths_csv' variable.\n",
        "deaths_csv = '/content/COVID-19/csse_covid_19_data/csse_covid_19_time_series/time_series_covid19_deaths_global.csv'\n",
        "# Storing the path of 'time_series_covid19_recovered_global.csv' in 'rec_csv' variable.\n",
        "rec_csv = '/content/COVID-19/csse_covid_19_data/csse_covid_19_time_series/time_series_covid19_recovered_global.csv'"
      ],
      "execution_count": null,
      "outputs": []
    },
    {
      "cell_type": "markdown",
      "metadata": {
        "id": "pPIEgFoRT2dF",
        "colab_type": "text"
      },
      "source": [
        "This data gets updated every day. Today it has data till yesterday. Tomorrow, it will contain data for this day as well."
      ]
    },
    {
      "cell_type": "markdown",
      "metadata": {
        "id": "NBUHaxmxvL3O",
        "colab_type": "text"
      },
      "source": [
        "---"
      ]
    },
    {
      "cell_type": "markdown",
      "metadata": {
        "id": "kQ8iJFL1mHOY",
        "colab_type": "text"
      },
      "source": [
        "#### Activity 3: Importing Modules\n",
        "\n",
        "To perform different kinds of tasks, we can use different modules in Python. "
      ]
    },
    {
      "cell_type": "code",
      "metadata": {
        "id": "GwiApHYSs9hn",
        "colab_type": "code",
        "colab": {}
      },
      "source": [
        "# Student Action: Run the code below.\n",
        "import pandas as pd # Data processing \n",
        "import matplotlib.pyplot as plt # Data visualisation\n",
        "import seaborn as sns # Data visualisation\n",
        "import folium # Cartograms / maps\n",
        "import datetime # Work with date and time values\n",
        "\n",
        "%matplotlib inline"
      ],
      "execution_count": null,
      "outputs": []
    },
    {
      "cell_type": "markdown",
      "metadata": {
        "id": "9UtzXMTothB0",
        "colab_type": "text"
      },
      "source": [
        "---"
      ]
    },
    {
      "cell_type": "markdown",
      "metadata": {
        "id": "J-wGaapfKMVb",
        "colab_type": "text"
      },
      "source": [
        "#### Activity 4: Create DataFrames & Series\n",
        "\n",
        "Let's create a DataFrames for the total confirmed coronavirus cases across the globe. \n",
        "\n",
        "*A DataFrame is a tabular representation of data containing many rows and columns.*\n"
      ]
    },
    {
      "cell_type": "code",
      "metadata": {
        "id": "zkRUExo848zX",
        "colab_type": "code",
        "colab": {}
      },
      "source": [
        "# Student Action: Run the code below.\n",
        "# DataFrame for the total confirmed cases.\n",
        "conf_df = pd.read_csv(conf_csv)\n",
        "# Display the first five rows of the 'conf_df' DataFrame.\n",
        "conf_df.head()"
      ],
      "execution_count": null,
      "outputs": []
    },
    {
      "cell_type": "markdown",
      "metadata": {
        "id": "xTHPY2ysHeXh",
        "colab_type": "text"
      },
      "source": [
        "As you can see, we have data for the total confirmed cases of coronavirus reported till yesterday across the globe.\n",
        "\n",
        "Let's find out how many rows and columns are there in the `conf_df` DataFrame."
      ]
    },
    {
      "cell_type": "code",
      "metadata": {
        "id": "OwVoZrENfv8h",
        "colab_type": "code",
        "colab": {}
      },
      "source": [
        "# Student Action: Run the code below.\n",
        "# Number of rows and columns in the 'conf_df' DataFrame.\n",
        "conf_df.shape"
      ],
      "execution_count": null,
      "outputs": []
    },
    {
      "cell_type": "markdown",
      "metadata": {
        "id": "adAdf6v2fp4u",
        "colab_type": "text"
      },
      "source": [
        "Now, let's create a series of the total confirmed cases of coronavirus reported:\n",
        "\n",
        "- Across globe\n",
        "\n",
        "- In China\n",
        "\n",
        "- In India\n",
        "\n",
        "- In the US"
      ]
    },
    {
      "cell_type": "code",
      "metadata": {
        "id": "RA8ymoZQ4a4o",
        "colab_type": "code",
        "colab": {}
      },
      "source": [
        "# Student Action: Run the code below.\n",
        "# Total confirmed cases reported across the globe.\n",
        "global_cases = conf_df.iloc[:, 4:].apply(sum, axis=0)\n",
        "# Converting the indices to datetime values.\n",
        "global_cases.index = pd.to_datetime(global_cases.index) # The datetime value is formatted in the yyyy-mm-dd format.\n",
        "global_cases"
      ],
      "execution_count": null,
      "outputs": []
    },
    {
      "cell_type": "code",
      "metadata": {
        "id": "Flm105kDHMsz",
        "colab_type": "code",
        "colab": {}
      },
      "source": [
        "# Student Action: Run the code below.\n",
        "# Total confirmed cases in China.\n",
        "china_cases = conf_df[conf_df['Country/Region'] == 'China'].iloc[:, 4:].apply(sum, axis=0)\n",
        "china_cases.index = pd.to_datetime(china_cases.index) # The datetime value is formatted in the yyyy-mm-dd format.\n",
        "\n",
        "# Total confirmed cases in India.\n",
        "india_cases = conf_df[conf_df['Country/Region'] == 'India'].iloc[:, 4:].apply(sum, axis=0)\n",
        "india_cases.index = pd.to_datetime(india_cases.index)\n",
        "\n",
        "# Total confirmed cases in the US.\n",
        "us_cases = conf_df[conf_df['Country/Region'] == 'US'].iloc[:, 4:].apply(sum, axis=0)\n",
        "us_cases.index = pd.to_datetime(us_cases.index)"
      ],
      "execution_count": null,
      "outputs": []
    },
    {
      "cell_type": "markdown",
      "metadata": {
        "id": "gg0S_PoPIWNa",
        "colab_type": "text"
      },
      "source": [
        "---"
      ]
    },
    {
      "cell_type": "markdown",
      "metadata": {
        "id": "c89NQqmSLPgv",
        "colab_type": "text"
      },
      "source": [
        "#### Activity 5: Line Plots\n",
        "\n",
        "Now, we will create line plots for the total number of confirmed cases reported \n",
        "\n",
        "- Across world\n",
        "\n",
        "- In China\n",
        "\n",
        "- In India\n",
        "\n",
        "- In the US\n"
      ]
    },
    {
      "cell_type": "code",
      "metadata": {
        "id": "y3qwb3fl4zwA",
        "colab_type": "code",
        "colab": {}
      },
      "source": [
        "# Student Action: Run the code below.\n",
        "# Line plot for the total number of coronavirus confirmed cases reported across the world.\n",
        "plt.style.use('dark_background')\n",
        "plt.figure(figsize=(20, 6))\n",
        "plt.title('Total Coronavirus Cases Reported Across the Globe')\n",
        "plt.plot(global_cases.index, global_cases, c='orange', linewidth=2, marker='o', markersize=7)\n",
        "plt.xticks(rotation=45)\n",
        "plt.ylabel('in millions')\n",
        "plt.grid(True, 'major', linestyle='--', c='grey')\n",
        "plt.show()"
      ],
      "execution_count": null,
      "outputs": []
    },
    {
      "cell_type": "code",
      "metadata": {
        "id": "zVUqR7BjLdme",
        "colab_type": "code",
        "colab": {}
      },
      "source": [
        "# Student Action: Run the code below.\n",
        "# Line plot for the total number of coronavirus confirmed cases reported in China only.\n",
        "plt.figure(figsize=(20, 6))\n",
        "plt.title('Total Coronavirus Cases Reported in China')\n",
        "plt.plot(china_cases.index, china_cases, c='orange', linewidth=2, marker='o', markersize=7)\n",
        "plt.xticks(rotation=45)\n",
        "plt.grid(True, 'major', linestyle='--', c='grey')\n",
        "plt.show()"
      ],
      "execution_count": null,
      "outputs": []
    },
    {
      "cell_type": "markdown",
      "metadata": {
        "id": "5i5d3suR2ar7",
        "colab_type": "text"
      },
      "source": [
        "The curve flattens after 23 February 2020 because Wuhan (the capital of Hubei province in China) was put under total lockdown on 23 January 2020. As a result, the spread of the virus slowed down significantly."
      ]
    },
    {
      "cell_type": "code",
      "metadata": {
        "id": "Dg-LoBJq6Bxg",
        "colab_type": "code",
        "colab": {}
      },
      "source": [
        "# Student Action: Run the code below.\n",
        "# Line plot for the total number of coronavirus confirmed cases reported in India.\n",
        "plt.figure(figsize=(20, 6))\n",
        "plt.title('Total Coronavirus Cases Reported in India')\n",
        "plt.plot(india_cases.index, india_cases, c='r', linewidth=2, marker='o', markersize=7)\n",
        "plt.xticks(rotation=45)\n",
        "plt.grid(True, 'major', linestyle='--', c='grey')\n",
        "plt.show()"
      ],
      "execution_count": null,
      "outputs": []
    },
    {
      "cell_type": "markdown",
      "metadata": {
        "id": "xMbkmHR9baCQ",
        "colab_type": "text"
      },
      "source": [
        "India started testing for coronavirus in bulk in the last week of March 2020.\n",
        "\n",
        "If you want to look at the trend of the coronavirus outbreak in India across all the states, then click on the link provided below.\n",
        "\n",
        "[Ministry Of Health & Family Welfare](https://www.mohfw.gov.in/)"
      ]
    },
    {
      "cell_type": "code",
      "metadata": {
        "id": "Rk_LBUo66Rbl",
        "colab_type": "code",
        "colab": {}
      },
      "source": [
        "# Student Action: Run the code below.\n",
        "# Line plot for the total number of coronavirus confirmed cases reported in the US.\n",
        "plt.figure(figsize=(20, 6))\n",
        "plt.title('Total Coronavirus Cases Reported in the US')\n",
        "plt.plot(us_cases.index, us_cases, c='m', linewidth=2, marker='o', markersize=7)\n",
        "plt.xticks(rotation=45)\n",
        "plt.ylabel(\"in millions\")\n",
        "plt.grid(True, 'major', linestyle='--', c='grey')\n",
        "plt.show()"
      ],
      "execution_count": null,
      "outputs": []
    },
    {
      "cell_type": "markdown",
      "metadata": {
        "id": "der1tglJIWvQ",
        "colab_type": "text"
      },
      "source": [
        "The USA started testing for coronavirus in bulk after March 15, 2020."
      ]
    },
    {
      "cell_type": "code",
      "metadata": {
        "id": "X4b9sgHu5Eb_",
        "colab_type": "code",
        "colab": {}
      },
      "source": [
        "# Student Action: Run the code below.\n",
        "# Line plot to compare the total number of coronavirus confirmed cases reported in India and China.\n",
        "plt.figure(figsize=(20, 6))\n",
        "plt.title('Total Coronavirus Cases Reported: India & China')\n",
        "plt.plot(india_cases.index, india_cases, c='red', linewidth=2, marker='o', markersize=7, label='India')\n",
        "plt.plot(china_cases.index, china_cases, c='orange', linewidth=2, marker='o', markersize=7, label='China')\n",
        "plt.xticks(rotation=45)\n",
        "plt.grid(True, 'major', linestyle='--', c='grey')\n",
        "plt.legend()\n",
        "plt.show()"
      ],
      "execution_count": null,
      "outputs": []
    },
    {
      "cell_type": "code",
      "metadata": {
        "id": "Ci66NNYl6_Ls",
        "colab_type": "code",
        "colab": {}
      },
      "source": [
        "# Student Action: Run the code below.\n",
        "# Line plot to compare the total number of coronavirus confirmed cases reported in India, China & the USA.\n",
        "plt.figure(figsize=(20, 6))\n",
        "plt.title('Total Coronavirus Cases Reported: India, China & The USA')\n",
        "plt.plot(india_cases.index, india_cases, c='red', linewidth=2, marker='o', markersize=7, label='India')\n",
        "plt.plot(china_cases.index, china_cases, c='orange', linewidth=2, marker='o', markersize=7, label='China')\n",
        "plt.plot(us_cases.index, us_cases, c='m', linewidth=2, marker='o', markersize=7, label='USA')\n",
        "plt.xticks(rotation=45)\n",
        "plt.ylabel('in millions')\n",
        "plt.grid(True, 'major', linestyle='--', c='grey')\n",
        "plt.legend()\n",
        "plt.show()"
      ],
      "execution_count": null,
      "outputs": []
    },
    {
      "cell_type": "markdown",
      "metadata": {
        "id": "EmAmcjEGKGuf",
        "colab_type": "text"
      },
      "source": [
        "At the beginning of the last week of March, the total confirmed cases of coronavirus in the USA surpassed the same in China."
      ]
    },
    {
      "cell_type": "markdown",
      "metadata": {
        "id": "fX4YkBNQbsER",
        "colab_type": "text"
      },
      "source": [
        "---"
      ]
    },
    {
      "cell_type": "markdown",
      "metadata": {
        "id": "Z1OHdfk2bs0B",
        "colab_type": "text"
      },
      "source": [
        "#### Activity 6: Grouping\n",
        "\n",
        "Let's identify the top 5 countries having the most number of confirmed coronavirus cases and visualise their trends starting from March 15, 2020 because that's when the USA started testing in bulk. They have recorded the most number of coronavirus confirmed cases till date."
      ]
    },
    {
      "cell_type": "code",
      "metadata": {
        "id": "L6Fy336RLkRb",
        "colab_type": "code",
        "colab": {}
      },
      "source": [
        "# Student Action: Run the code below.\n",
        "# The grouped DataFrame having the total coronavirus confirmed cases across the globe in descending order.\n",
        "grouped_conf_df = conf_df.groupby(by='Country/Region', as_index=False).sum()\n",
        "desc_grp_conf_df = grouped_conf_df.sort_values(by=conf_df.columns[-1], ascending=False)\n",
        "desc_grp_conf_df.head()"
      ],
      "execution_count": null,
      "outputs": []
    },
    {
      "cell_type": "code",
      "metadata": {
        "id": "kxEUOr1a1xz1",
        "colab_type": "code",
        "colab": {}
      },
      "source": [
        "# Student Action: Run the code below.\n",
        "# Top 5 countries with the highest number of coronavirus confirmed cases starting from March 15, 2020.\n",
        "plt.figure(figsize=(20, 8))\n",
        "plt.title('Top 5 Countries with Highest COVID-19 Confirmed Cases')\n",
        "for region in desc_grp_conf_df.head()['Country/Region']:\n",
        "  # conf_series = high_to_low_conf_df.loc[high_to_low_conf_df['Country/Region'] == region, high_to_low_conf_df.columns[3:]].values[0]\n",
        "  plt.plot(global_cases.index[53:], desc_grp_conf_df[desc_grp_conf_df['Country/Region'] == region].iloc[0, 56:], '-o', label=region)\n",
        "plt.xticks(rotation=45)\n",
        "plt.legend()\n",
        "plt.grid(True, 'major', linestyle='--', c='grey')\n",
        "plt.show()"
      ],
      "execution_count": null,
      "outputs": []
    },
    {
      "cell_type": "markdown",
      "metadata": {
        "id": "05ZbmZE9b1K6",
        "colab_type": "text"
      },
      "source": [
        "---"
      ]
    },
    {
      "cell_type": "markdown",
      "metadata": {
        "id": "dTTO-OzRcKEr",
        "colab_type": "text"
      },
      "source": [
        "#### Activity 7: Bivariate Bar Plots\n",
        "\n",
        "Let's create a bar chart displaying the top 20 countries having the most number of coronavirus confirmed cases. "
      ]
    },
    {
      "cell_type": "code",
      "metadata": {
        "id": "dwtOz6edcSC6",
        "colab_type": "code",
        "colab": {}
      },
      "source": [
        "# Student Action: Run the code below.\n",
        "# Get the latest date.\n",
        "last_col = conf_df.columns[-1]\n",
        "# Modify the latest date in the 'Month DD, YYYY' format.\n",
        "latest_date = datetime.datetime.strptime(last_col, '%m/%d/%y').strftime('%B %d, %Y')\n",
        "\n",
        "# Create a bivariate bar chart displaying the top 20 countries having the most number of coronavirus confirmed cases.\n",
        "plt.figure(figsize=(15, 10))\n",
        "plt.title('Top 20 Countries with Highest COVID-19 Confirmed Cases')\n",
        "sns.barplot(desc_grp_conf_df[last_col].head(20), desc_grp_conf_df['Country/Region'].head(20), orient='h')\n",
        "plt.xlabel(f'Total Confirmed Cases (in millions) As of {latest_date}')\n",
        "plt.show()"
      ],
      "execution_count": null,
      "outputs": []
    },
    {
      "cell_type": "markdown",
      "metadata": {
        "id": "NR6iuLW7cJWV",
        "colab_type": "text"
      },
      "source": [
        "---"
      ]
    },
    {
      "cell_type": "markdown",
      "metadata": {
        "id": "Rft7QOHglq_o",
        "colab_type": "text"
      },
      "source": [
        "#### Activity 8: Cartograms (or Maps) For China^\n",
        "\n",
        "Let's create a cartogram to show the distribution of confirmed coronavirus cases in China and mark the affected regions of China with location markers.\n",
        "\n",
        "The markers will display the name of the region location along with the number of confirmed coronavirus cases in that region."
      ]
    },
    {
      "cell_type": "code",
      "metadata": {
        "id": "avifnxhLkQ1C",
        "colab_type": "code",
        "colab": {}
      },
      "source": [
        "# Student Action: Run the code below.\n",
        "# The DataFrame for the total confirmed cases in China only.\n",
        "conf_china_df = conf_df[conf_df['Country/Region'] == 'China']\n",
        "\n",
        "# Map to show the distribution of confirmed coronavirus cases in China (regular markers).\n",
        "china_map = folium.Map(location=[30.9756, 112.2707], width='100%', height='90%', tiles='Stamen Toner', zoom_start=4.25)\n",
        "for i in conf_china_df.index:\n",
        "  folium.Marker(location=[conf_china_df.loc[i, 'Lat'], conf_china_df.loc[i, 'Long']],\n",
        "                popup= conf_china_df.loc[i, 'Province/State'] + \"\\n\" + str(conf_china_df.loc[i, last_col])).add_to(china_map)\n",
        "china_map"
      ],
      "execution_count": null,
      "outputs": []
    },
    {
      "cell_type": "markdown",
      "metadata": {
        "id": "mlDBS3W_mHli",
        "colab_type": "text"
      },
      "source": [
        "Let's create a cartogram to show the distribution of confirmed coronavirus cases in China and mark the affected regions of China with **circular** location markers.\n",
        "\n",
        "The markers will display the name of the region location along with the number of confirmed coronavirus cases in that region."
      ]
    },
    {
      "cell_type": "code",
      "metadata": {
        "id": "yUZhcjXUSuyg",
        "colab_type": "code",
        "colab": {}
      },
      "source": [
        "# Student Action: Run the code below.\n",
        "# Map to show the distribution of confirmed coronavirus cases in China (circular markers).\n",
        "china_map = folium.Map(location=[30.9756, 112.2707], width='100%', height='90%', tiles='Stamen Toner', zoom_start=4.5)\n",
        "for i in conf_china_df.index:\n",
        "  folium.Circle(radius=int(conf_china_df.loc[i, last_col]) * 2,\n",
        "                location=[conf_china_df.loc[i, 'Lat'], conf_china_df.loc[i, 'Long']],\n",
        "                popup= conf_china_df.loc[i, 'Province/State'] + \"\\n\" + str(conf_china_df.loc[i, last_col]),\n",
        "                color='crimson', fill=True, fill_color='crimson').add_to(china_map)\n",
        "china_map"
      ],
      "execution_count": null,
      "outputs": []
    },
    {
      "cell_type": "markdown",
      "metadata": {
        "id": "D4J7zYhAd-xN",
        "colab_type": "text"
      },
      "source": [
        "We know for sure that the Hubei region was affected the most in China; almost 50 times the second most affected region. Hence, the circles for the other regions are very small compared to the circle for the Hubei region.\n",
        "\n",
        "Let's increase the scale of the radius of the circles to see the variation of people affected in other regions. Also, we will not create a circle for the Hubei region on the map. "
      ]
    },
    {
      "cell_type": "code",
      "metadata": {
        "id": "eBZJ1o1rd-C6",
        "colab_type": "code",
        "colab": {}
      },
      "source": [
        "# Student Action: Run the code below.\n",
        "# Map to show the distribution of confirmed coronavirus cases in China excluding Wuhan (circular markers).\n",
        "china_map = folium.Map(location=[30.9756, 112.2707], width='100%', height='100%', tiles='Stamen Toner', zoom_start=4.5)\n",
        "for i in conf_china_df.sort_values(by=last_col, ascending=False).index[1:]:\n",
        "  folium.Circle(radius=int(conf_china_df.loc[i, last_col]) * 100,\n",
        "                location=[conf_china_df.loc[i, 'Lat'], conf_china_df.loc[i, 'Long']],\n",
        "                popup= conf_china_df.loc[i, 'Province/State'] + \"\\n\" + str(conf_china_df.loc[i, last_col]),\n",
        "                color='crimson', fill=True, fill_color='crimson').add_to(china_map)\n",
        "china_map"
      ],
      "execution_count": null,
      "outputs": []
    },
    {
      "cell_type": "markdown",
      "metadata": {
        "id": "0GKL8P8BgThJ",
        "colab_type": "text"
      },
      "source": [
        "As you can see, the number of reported cases of coronavirus are comparable in regions other than Hubei."
      ]
    },
    {
      "cell_type": "markdown",
      "metadata": {
        "id": "uJdF2ZGimlBS",
        "colab_type": "text"
      },
      "source": [
        "---"
      ]
    },
    {
      "cell_type": "markdown",
      "metadata": {
        "id": "FIPVsybHmijn",
        "colab_type": "text"
      },
      "source": [
        "#### Activity 9: Cartogram (or Maps) For World\n",
        "\n",
        "Let's create a cartogram to show the distribution of confirmed coronavirus cases across the world and mark the affected regions in the world with **circular** location markers.\n",
        "\n",
        "The markers will display the name of the region location along with the number of confirmed coronavirus cases in that region."
      ]
    },
    {
      "cell_type": "code",
      "metadata": {
        "id": "Z-sXsCRLoPr2",
        "colab_type": "code",
        "colab": {}
      },
      "source": [
        "# Student Action: Run the code below.\n",
        "# Map to show the distribution of confirmed coronavirus cases across the world (circular markers).\n",
        "world_map = folium.Map(location=[0, 0], width='100%', height='80%', tiles='Stamen Toner', zoom_start=2.25)\n",
        "for i in conf_df.index:\n",
        "  folium.Circle(location=[conf_df.loc[i, 'Lat'], conf_df.loc[i, 'Long']], \n",
        "                radius=int(conf_df.loc[i, last_col]), \n",
        "                popup=conf_df.loc[i, 'Country/Region'] + '\\n' + str(conf_df.loc[i, last_col]),\n",
        "                color='crimson', fill=True, fill_color='crimson').add_to(world_map)\n",
        "world_map"
      ],
      "execution_count": null,
      "outputs": []
    },
    {
      "cell_type": "markdown",
      "metadata": {
        "id": "F9tSRnsCcQop",
        "colab_type": "text"
      },
      "source": [
        "---"
      ]
    },
    {
      "cell_type": "markdown",
      "metadata": {
        "id": "dps3_YWKgcj8",
        "colab_type": "text"
      },
      "source": [
        "#### Activity 10: Cartogram (or Maps) For The USA\n",
        "\n",
        "Let's also create a cartogram specifically for the United States for America."
      ]
    },
    {
      "cell_type": "code",
      "metadata": {
        "id": "REPhK683gdzs",
        "colab_type": "code",
        "colab": {}
      },
      "source": [
        "# Student Action: Run the code below.\n",
        "# Map to show the distribution of confirmed coronavirus cases across the USA (circular markers).\n",
        "us_conf_csv = '/content/COVID-19/csse_covid_19_data/csse_covid_19_time_series/time_series_covid19_confirmed_US.csv'\n",
        "us_conf_df = pd.read_csv(us_conf_csv)\n",
        "us_conf_df = us_conf_df.dropna()\n",
        "\n",
        "us_map = folium.Map(location=[39.381266, -97.922211], width='100%', height='80%', tiles='Stamen Toner', zoom_start=4)\n",
        "for i in us_conf_df.index:\n",
        "  folium.Circle(location=[us_conf_df.loc[i, 'Lat'], us_conf_df.loc[i, 'Long_']], \n",
        "                radius=int(us_conf_df.loc[i, last_col]), \n",
        "                popup=us_conf_df.loc[i, 'Province_State'] + '\\n' + str(us_conf_df.loc[i, last_col]),\n",
        "                color='crimson', fill=True, fill_color='crimson').add_to(us_map)\n",
        "us_map"
      ],
      "execution_count": null,
      "outputs": []
    },
    {
      "cell_type": "markdown",
      "metadata": {
        "id": "XivOM43wghkS",
        "colab_type": "text"
      },
      "source": [
        "Most number of the confirmed cases are recorded in the eastern region in the USA. Also, New York is the most affected city in the USA."
      ]
    },
    {
      "cell_type": "markdown",
      "metadata": {
        "id": "v2pY4_8vhzJG",
        "colab_type": "text"
      },
      "source": [
        "---"
      ]
    },
    {
      "cell_type": "markdown",
      "metadata": {
        "id": "kBQlBHI8iKS_",
        "colab_type": "text"
      },
      "source": [
        "#### Activity 11: Non-Cumulative Confirmed Cases^^^\n",
        "\n",
        "Let's identify the countries having the lowest number of daily or non-cumulative coronavirus confirmed cases to further identify the countries that have flattened the curve."
      ]
    },
    {
      "cell_type": "markdown",
      "metadata": {
        "id": "s5pVdOWbMsnp",
        "colab_type": "text"
      },
      "source": [
        "**Q:** What should be the logic to identify the countries that have flattened the curve?\n",
        "\n",
        "**A:** \n",
        "\n",
        "**Q:** What should be the logic to calculate the non-cumulative confirmed coronavirus cases starting from January 22, 2020?\n",
        "\n",
        "**A:** "
      ]
    },
    {
      "cell_type": "markdown",
      "metadata": {
        "id": "Yychev6LMl-3",
        "colab_type": "text"
      },
      "source": [
        "Let's create a DataFrame to find out the non-cumulative confirmed coronavirus cases starting from January 22, 2020."
      ]
    },
    {
      "cell_type": "code",
      "metadata": {
        "id": "DEm43wHhfnap",
        "colab_type": "code",
        "colab": {}
      },
      "source": [
        "# Student Action: Run the code below.\n",
        "# First step to create the DataFrame for the non-cumulative confirmed coronavirus cases starting from January 22, 2020.\n",
        "non_cum_conf_df = desc_grp_conf_df.iloc[:, :4]\n",
        "non_cum_conf_df"
      ],
      "execution_count": null,
      "outputs": []
    },
    {
      "cell_type": "code",
      "metadata": {
        "id": "pYCxwQn6g8Gf",
        "colab_type": "code",
        "colab": {}
      },
      "source": [
        "# Student Action: Run the code below.\n",
        "# Final step to create the DataFrame for the non-cumulative confirmed coronavirus cases starting from January 22, 2020.\n",
        "for i in range(len(desc_grp_conf_df.columns[3:]) - 1):\n",
        "  series = desc_grp_conf_df[desc_grp_conf_df.columns[3 + (i + 1) ]] - desc_grp_conf_df[desc_grp_conf_df.columns[3 + i]]\n",
        "  non_cum_conf_df[desc_grp_conf_df.columns[3 + (i + 1)]] = series \n",
        "\n",
        "non_cum_conf_df.head()"
      ],
      "execution_count": null,
      "outputs": []
    },
    {
      "cell_type": "markdown",
      "metadata": {
        "id": "rbOMr2kInIDu",
        "colab_type": "text"
      },
      "source": [
        "Let's create plots for a few countries to visualise the trends for the non-cumulative confirmed cases."
      ]
    },
    {
      "cell_type": "code",
      "metadata": {
        "id": "Kaw8A5xqjtRs",
        "colab_type": "code",
        "colab": {}
      },
      "source": [
        "# Student Action: Run the code below.\n",
        "# Plot the first four countries having non-cumulative confirmed cases in the above DataFrame.\n",
        "plt.figure(figsize=(20, 8))\n",
        "plt.title('Non-Cumulative COVID-19 Confirmed Cases')\n",
        "for region in non_cum_conf_df.iloc[:4, :]['Country/Region']:\n",
        "  plt.plot(global_cases.index[39:], non_cum_conf_df[non_cum_conf_df['Country/Region'] == region].iloc[0, 42:], lw=2.5, label=region)\n",
        "plt.xticks(rotation=45)\n",
        "plt.legend()\n",
        "plt.grid(True, 'major', linestyle='--', c='grey')\n",
        "plt.show()"
      ],
      "execution_count": null,
      "outputs": []
    },
    {
      "cell_type": "markdown",
      "metadata": {
        "id": "zhr7Rim045Y7",
        "colab_type": "text"
      },
      "source": [
        "**Q:** From the above graph, identify the countries having the lowest daily confirmed cases?\n",
        "\n",
        "**A:**"
      ]
    },
    {
      "cell_type": "code",
      "metadata": {
        "id": "zhl_Lm4VlN9K",
        "colab_type": "code",
        "colab": {}
      },
      "source": [
        "# Student Action: Run the code below.\n",
        "# Plot the next four countries having non-cumulative confirmed cases in the above DataFrame.\n",
        "plt.figure(figsize=(20, 8))\n",
        "plt.title('Non-Cumulative COVID-19 Confirmed Cases')\n",
        "for region in non_cum_conf_df.iloc[4:8, :]['Country/Region']:\n",
        "  plt.plot(global_cases.index[39:], non_cum_conf_df[non_cum_conf_df['Country/Region'] == region].iloc[0, 42:], lw=2.5, label=region)\n",
        "plt.xticks(rotation=45)\n",
        "plt.legend()\n",
        "plt.grid(True, 'major', linestyle='--', c='grey')\n",
        "plt.show()"
      ],
      "execution_count": null,
      "outputs": []
    },
    {
      "cell_type": "markdown",
      "metadata": {
        "id": "adS4a-0K5Qyx",
        "colab_type": "text"
      },
      "source": [
        "**Q:** From the above graph, identify the countries having the lowest daily confirmed cases?\n",
        "\n",
        "**A:**"
      ]
    },
    {
      "cell_type": "markdown",
      "metadata": {
        "id": "IepQyAZDfHiQ",
        "colab_type": "text"
      },
      "source": [
        "---"
      ]
    },
    {
      "cell_type": "markdown",
      "metadata": {
        "id": "fM5apiuOoIqz",
        "colab_type": "text"
      },
      "source": [
        "#### Activity 12: Flattened Curves^^\n",
        "\n",
        "Let's create a list of countries that have flattened the curve. Ideally, to flatten the curve, the non-cumulative cases for each day should be 0. But in a practical sense, from the point-of-view of healthcare facilities in a country, let's assume that on an average a country can handle 100 COVID-19 cases every day.\n",
        "\n",
        "So, to find the countries that have flattened the curve, let's calculate the sum of daily coronavirus confirmed cases for each country. If the sum of daily coronavirus confirmed cases for the last 14 days is at most 1400, then we can say that the country has flattened the curve. "
      ]
    },
    {
      "cell_type": "code",
      "metadata": {
        "id": "FOKBRSfsMjDB",
        "colab_type": "code",
        "colab": {}
      },
      "source": [
        "# Student Action: Run the code below.\n",
        "# List of countries that have flattened the curve.\n",
        "countries = []\n",
        "for i in non_cum_conf_df.index:\n",
        "  last_14_days = []\n",
        "  for j in range(14):\n",
        "    last_14_days.append(non_cum_conf_df.loc[i, non_cum_conf_df.columns[-(j + 1)]])\n",
        "  if sum(last_14_days) <= 1400:\n",
        "    countries.append(non_cum_conf_df.loc[i, 'Country/Region'])\n",
        "countries"
      ],
      "execution_count": null,
      "outputs": []
    },
    {
      "cell_type": "markdown",
      "metadata": {
        "id": "kL_h_IqPqJoC",
        "colab_type": "text"
      },
      "source": [
        "Let's create line plots to visualise the total confirmed cases for the first 10 countries in the above list."
      ]
    },
    {
      "cell_type": "code",
      "metadata": {
        "id": "g_9OA52BU3cK",
        "colab_type": "code",
        "colab": {}
      },
      "source": [
        "# Student Action: Run the code below.\n",
        "# Line plot for the total number of coronavirus confirmed cases reported in the countries that have flattened the curve.\n",
        "def flattened_curve(country_list):\n",
        "  for country in country_list: \n",
        "    country_cases = conf_df[conf_df['Country/Region'] == country].iloc[:, 4:].apply(sum, axis=0)\n",
        "    country_cases.index = pd.to_datetime(country_cases.index)\n",
        "\n",
        "    plt.figure(figsize=(20, 6))\n",
        "    plt.title(f'Total Coronavirus Cases Reported in {country}')\n",
        "    plt.plot(country_cases.index, country_cases, c='g', linewidth=2, marker='o', markersize=7)\n",
        "    plt.xticks(rotation=45)\n",
        "    plt.grid(True, 'major', linestyle='--', c='grey')\n",
        "    plt.show()\n",
        "\n",
        "flattened_curve(countries[:10])"
      ],
      "execution_count": null,
      "outputs": []
    },
    {
      "cell_type": "markdown",
      "metadata": {
        "id": "QUn0mdX7q1pI",
        "colab_type": "text"
      },
      "source": [
        "We analysed only the confirmed cases. In the same way, you can analyse the deaths due to coronavirus data and number of people recovered from coronavirus data. The dataset structure for these two datasets is the same as that of the confirmed cases dataset."
      ]
    },
    {
      "cell_type": "code",
      "metadata": {
        "id": "YM3RDzvXrSsR",
        "colab_type": "code",
        "colab": {}
      },
      "source": [
        "# Student Action: Run the code below.\n",
        "# DataFrame for the total deaths due to coronavirus.\n",
        "deaths_df = pd.read_csv(deaths_csv)\n",
        "deaths_df.head()"
      ],
      "execution_count": null,
      "outputs": []
    },
    {
      "cell_type": "code",
      "metadata": {
        "id": "E34HYtHUrsMy",
        "colab_type": "code",
        "colab": {}
      },
      "source": [
        "# Student Action: Run the code below.\n",
        "# DataFrame for the total number of patients recovered from coronavirus.\n",
        "rec_df = pd.read_csv(rec_csv)\n",
        "rec_df.head()"
      ],
      "execution_count": null,
      "outputs": []
    },
    {
      "cell_type": "markdown",
      "metadata": {
        "id": "gjZ1NzYs_I9-",
        "colab_type": "text"
      },
      "source": [
        "---\n"
      ]
    }
  ]
}